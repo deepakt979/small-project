{
 "cells": [
  {
   "cell_type": "code",
   "execution_count": 1,
   "id": "add16a4c",
   "metadata": {},
   "outputs": [
    {
     "name": "stdout",
     "output_type": "stream",
     "text": [
      "What is your current age?12\n",
      "You have 28470 days, 4056 weeks, and 936 months left.\n"
     ]
    }
   ],
   "source": [
    "age = input(\"What is your current age?\")\n",
    "# 🚨 Don't change the code above 👆\n",
    "\n",
    "#Write your code below this line 👇\n",
    "# total years is 90 years\n",
    "differanc_of_age=90-int(age)\n",
    "# total days are 365 days\n",
    "days=differanc_of_age * 365\n",
    "# total weeks are 52 weeks\n",
    "weeks=differanc_of_age * 52\n",
    "# total months are 12 months\n",
    "months=differanc_of_age * 12\n",
    "\n",
    "\n",
    "print(f\"You have {days} days, {weeks} weeks, and {months} months left.\")"
   ]
  },
  {
   "cell_type": "code",
   "execution_count": null,
   "id": "8156ec2b",
   "metadata": {},
   "outputs": [],
   "source": []
  }
 ],
 "metadata": {
  "kernelspec": {
   "display_name": "Python 3 (ipykernel)",
   "language": "python",
   "name": "python3"
  },
  "language_info": {
   "codemirror_mode": {
    "name": "ipython",
    "version": 3
   },
   "file_extension": ".py",
   "mimetype": "text/x-python",
   "name": "python",
   "nbconvert_exporter": "python",
   "pygments_lexer": "ipython3",
   "version": "3.7.6"
  }
 },
 "nbformat": 4,
 "nbformat_minor": 5
}
