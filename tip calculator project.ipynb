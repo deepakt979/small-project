{
 "cells": [
  {
   "cell_type": "code",
   "execution_count": null,
   "id": "438bdd7b",
   "metadata": {},
   "outputs": [
    {
     "name": "stdout",
     "output_type": "stream",
     "text": [
      "Welcome to the tip calculator!\n"
     ]
    }
   ],
   "source": [
    "print(\"Welcome to the tip calculator!\")\n",
    "\n",
    "bill=float(input(\"What was the total bill?\\n\"))\n",
    "\n",
    "\n",
    "tip=int(input(\"How much tip would you like to give? 10, 12, or 15?\\n\"))\n",
    "\n",
    "\n",
    "people=int(input(\"How many people to split the bill?\\n\"))\n",
    "tip_as_percent=tip/100\n",
    "total_tip_amount= bill * tip_as_percent\n",
    "total_bill=total_tip_amount + bill\n",
    "\n",
    "bill_per_person=total_bill/people\n",
    "round_decimal=round(bill_per_person, 2)\n",
    "print(round_decimal)"
   ]
  },
  {
   "cell_type": "code",
   "execution_count": null,
   "id": "3d7181e0",
   "metadata": {},
   "outputs": [],
   "source": []
  }
 ],
 "metadata": {
  "kernelspec": {
   "display_name": "Python 3 (ipykernel)",
   "language": "python",
   "name": "python3"
  },
  "language_info": {
   "codemirror_mode": {
    "name": "ipython",
    "version": 3
   },
   "file_extension": ".py",
   "mimetype": "text/x-python",
   "name": "python",
   "nbconvert_exporter": "python",
   "pygments_lexer": "ipython3",
   "version": "3.7.6"
  }
 },
 "nbformat": 4,
 "nbformat_minor": 5
}
